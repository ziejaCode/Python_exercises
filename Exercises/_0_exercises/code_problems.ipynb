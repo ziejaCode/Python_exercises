{
 "metadata": {
  "language_info": {
   "codemirror_mode": {
    "name": "ipython",
    "version": 3
   },
   "file_extension": ".py",
   "mimetype": "text/x-python",
   "name": "python",
   "nbconvert_exporter": "python",
   "pygments_lexer": "ipython3",
   "version": "3.8.6"
  },
  "orig_nbformat": 2,
  "kernelspec": {
   "name": "python3",
   "display_name": "Python 3.8.6 64-bit"
  },
  "metadata": {
   "interpreter": {
    "hash": "fbe238fbd6722883a25f0e99a6b32a532e1e5c4d6bc62cce666becd368f75eaf"
   }
  },
  "interpreter": {
   "hash": "fbe238fbd6722883a25f0e99a6b32a532e1e5c4d6bc62cce666becd368f75eaf"
  }
 },
 "nbformat": 4,
 "nbformat_minor": 2,
 "cells": [
  {
   "cell_type": "code",
   "execution_count": 16,
   "source": [
    "# Write a function that accepts two parameters, a parent and a child string. Determine how # many times the child string - \r\n",
    "# or an anagram of the child string appears in the parent # string. There is a solution which can be done in near instant \r\n",
    "\r\n",
    "#def checkParent(parent, child):\r\n",
    "    # cerate list of all posible annagrams for child word\r\n",
    "    # check parent word against content of the list\r\n",
    "\r\n",
    "c = 'dAntuy'\r\n",
    "x = 0\r\n",
    "while x < len(c):\r\n",
    "    for v in range(len(c)):\r\n",
    "        print(c[v - x], end='')\r\n",
    "        #print(c[v - x + 1], end=', ')\r\n",
    "        #print(c[v - x + 2], end=', ')\r\n",
    "    print('\\n')\r\n",
    "    x += 1\r\n",
    "\r\n",
    "\r\n",
    "#f('AdnBndAndBdaBn', 'dAn') # 4 (\"Adn\", \"ndA\", \"dAn\", \"And\")\r\n",
    "#f('AbrAcadAbRa', 'cAda') # 2"
   ],
   "outputs": [
    {
     "output_type": "stream",
     "name": "stdout",
     "text": [
      "dAntuy\n",
      "\n",
      "ydAntu\n",
      "\n",
      "uydAnt\n",
      "\n",
      "tuydAn\n",
      "\n",
      "ntuydA\n",
      "\n",
      "Antuyd\n",
      "\n"
     ]
    }
   ],
   "metadata": {}
  },
  {
   "cell_type": "code",
   "execution_count": null,
   "source": [],
   "outputs": [],
   "metadata": {}
  },
  {
   "cell_type": "code",
   "execution_count": null,
   "source": [],
   "outputs": [],
   "metadata": {}
  }
 ]
}