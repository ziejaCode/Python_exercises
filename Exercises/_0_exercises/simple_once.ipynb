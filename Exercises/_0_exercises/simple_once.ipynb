{
 "metadata": {
  "language_info": {
   "codemirror_mode": {
    "name": "ipython",
    "version": 3
   },
   "file_extension": ".py",
   "mimetype": "text/x-python",
   "name": "python",
   "nbconvert_exporter": "python",
   "pygments_lexer": "ipython3",
   "version": "3.7.4"
  },
  "orig_nbformat": 2,
  "kernelspec": {
   "name": "python3",
   "display_name": "Python 3.7.4 32-bit"
  },
  "metadata": {
   "interpreter": {
    "hash": "fbe238fbd6722883a25f0e99a6b32a532e1e5c4d6bc62cce666becd368f75eaf"
   }
  },
  "interpreter": {
   "hash": "0b15b737317ee57d023fd1135e68b8999dc64b0fb76512e8c43c46da68401b6e"
  }
 },
 "nbformat": 4,
 "nbformat_minor": 2,
 "cells": [
  {
   "cell_type": "code",
   "execution_count": 2,
   "metadata": {},
   "outputs": [],
   "source": [
    "# Python Basic (Part -I) - Exercises, Practice, Solution\n",
    "# https://www.w3resource.com/python-exercises/python-basic-exercises.php \n"
   ]
  },
  {
   "cell_type": "code",
   "execution_count": 4,
   "metadata": {},
   "outputs": [],
   "source": [
    "def highest_even(li):\n",
    "   return max([item for item in li if item % 2 == 0])\n",
    "   "
   ]
  },
  {
   "cell_type": "code",
   "execution_count": 12,
   "metadata": {},
   "outputs": [
    {
     "output_type": "execute_result",
     "data": {
      "text/plain": [
       "10"
      ]
     },
     "metadata": {},
     "execution_count": 12
    }
   ],
   "source": [
    "highest_even([10,4,5,7,6])"
   ]
  },
  {
   "cell_type": "code",
   "execution_count": 6,
   "metadata": {},
   "outputs": [
    {
     "output_type": "stream",
     "name": "stdout",
     "text": [
      "sys.version_info(major=3, minor=7, micro=4, releaselevel='final', serial=0)\n"
     ]
    }
   ],
   "source": [
    "import sys\n",
    "\n",
    "print(sys.version_info)\n"
   ]
  },
  {
   "cell_type": "code",
   "execution_count": 18,
   "metadata": {},
   "outputs": [
    {
     "output_type": "stream",
     "name": "stdout",
     "text": [
      "tsal eman\n['last', 'name']\n"
     ]
    }
   ],
   "source": [
    "# Write a Python program which accepts the user's first and last name and print them in reverse order with a space between them.\n",
    "\n",
    "def reverseName():\n",
    "    # fname = input(\"give me your first name\")\n",
    "    # lname = input(\"give me your last name\")\n",
    "\n",
    "    fname = (\"name\")\n",
    "    lname = (\"last\")\n",
    "\n",
    "    fullName = fname + ' ' + lname\n",
    "\n",
    "    fullName1 = [fname, lname]\n",
    "\n",
    "    print(fullName[::-1])\n",
    "    print(str(fullName1[::-1]))\n",
    "\n",
    "reverseName()\n"
   ]
  },
  {
   "cell_type": "code",
   "execution_count": 13,
   "metadata": {},
   "outputs": [
    {
     "output_type": "stream",
     "name": "stdout",
     "text": [
      "Mareeian\n"
     ]
    }
   ],
   "source": [
    "name = \"Mareeian\"\n",
    "print(name)"
   ]
  },
  {
   "cell_type": "code",
   "execution_count": 30,
   "metadata": {},
   "outputs": [
    {
     "output_type": "execute_result",
     "data": {
      "text/plain": [
       "(['2', '3', '4', '5', '6'], ('2', '3', '4', '5', '6'))"
      ]
     },
     "metadata": {},
     "execution_count": 30
    }
   ],
   "source": [
    "# No 6\n",
    "\n",
    "nums = input(\"give me some numbers\") # in this case it has to be like this 2345\n",
    "nums1 = 3, 5, 7, 23  # in this case commas are removed\n",
    "\n",
    "numList = list(nums)\n",
    "numTuple = tuple(nums)\n",
    "\n",
    "numList, numTuple"
   ]
  },
  {
   "cell_type": "code",
   "execution_count": 34,
   "metadata": {},
   "outputs": [
    {
     "output_type": "execute_result",
     "data": {
      "text/plain": [
       "'java'"
      ]
     },
     "metadata": {},
     "execution_count": 34
    }
   ],
   "source": [
    "filename = 'abc.java'\n",
    "\n",
    "extension = filename.split('.')\n",
    "extension[-1]\n"
   ]
  },
  {
   "cell_type": "code",
   "execution_count": null,
   "metadata": {},
   "outputs": [],
   "source": []
  }
 ]
}