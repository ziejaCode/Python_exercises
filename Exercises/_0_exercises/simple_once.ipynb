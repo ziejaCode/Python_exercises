{
 "metadata": {
  "language_info": {
   "codemirror_mode": {
    "name": "ipython",
    "version": 3
   },
   "file_extension": ".py",
   "mimetype": "text/x-python",
   "name": "python",
   "nbconvert_exporter": "python",
   "pygments_lexer": "ipython3",
   "version": "3.8.6"
  },
  "orig_nbformat": 2,
  "kernelspec": {
   "name": "python3",
   "display_name": "Python 3.8.6 64-bit"
  },
  "metadata": {
   "interpreter": {
    "hash": "fbe238fbd6722883a25f0e99a6b32a532e1e5c4d6bc62cce666becd368f75eaf"
   }
  },
  "interpreter": {
   "hash": "fbe238fbd6722883a25f0e99a6b32a532e1e5c4d6bc62cce666becd368f75eaf"
  }
 },
 "nbformat": 4,
 "nbformat_minor": 2,
 "cells": [
  {
   "cell_type": "code",
   "execution_count": 23,
   "metadata": {},
   "outputs": [],
   "source": [
    "# Python Basic (Part -I) - Exercises, Practice, Solution\n",
    "# https://www.w3resource.com/python-exercises/python-basic-exercises.php \n"
   ]
  },
  {
   "cell_type": "code",
   "execution_count": 25,
   "metadata": {},
   "outputs": [],
   "source": [
    "def highest_even(li):\n",
    "   return max([item for item in li if item % 2 == 0])\n",
    "   "
   ]
  },
  {
   "cell_type": "code",
   "execution_count": 28,
   "metadata": {},
   "outputs": [
    {
     "output_type": "execute_result",
     "data": {
      "text/plain": [
       "10"
      ]
     },
     "metadata": {},
     "execution_count": 28
    }
   ],
   "source": [
    "highest_even([10,4,5,7,6])"
   ]
  },
  {
   "cell_type": "code",
   "execution_count": 12,
   "metadata": {},
   "outputs": [
    {
     "output_type": "stream",
     "name": "stdout",
     "text": [
      "sys.version_info(major=3, minor=8, micro=6, releaselevel='final', serial=0)\n"
     ]
    }
   ],
   "source": [
    "import sys\n",
    "\n",
    "print(sys.version_info)\n"
   ]
  },
  {
   "cell_type": "code",
   "execution_count": 44,
   "metadata": {},
   "outputs": [
    {
     "output_type": "stream",
     "name": "stdout",
     "text": [
      "name last"
     ]
    }
   ],
   "source": [
    "# Write a Python program which accepts the user's first and last name and print them in reverse order with a space between them.\n",
    "\n",
    "def reverseName():\n",
    "    # fname = input(\"give me your first name\")\n",
    "    # lname = input(\"give me your last name\")\n",
    "\n",
    "    fname = (\"name\")\n",
    "    lname = (\"last\")\n",
    "\n",
    "    fullName = fname + ' ' + lname\n",
    "\n",
    "    for c in range(0, len(fullName)):\n",
    "        print(fullName[c], end='')\n",
    "\n",
    "reverseName()\n"
   ]
  },
  {
   "cell_type": "code",
   "execution_count": 30,
   "metadata": {},
   "outputs": [
    {
     "output_type": "stream",
     "name": "stdout",
     "text": [
      "Marian\n"
     ]
    }
   ],
   "source": [
    "name = \"Marian\"\n",
    "print(name)"
   ]
  },
  {
   "cell_type": "code",
   "execution_count": null,
   "metadata": {},
   "outputs": [],
   "source": []
  },
  {
   "cell_type": "code",
   "execution_count": null,
   "metadata": {},
   "outputs": [],
   "source": []
  }
 ]
}