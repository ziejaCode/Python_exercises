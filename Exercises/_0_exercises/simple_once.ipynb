{
 "metadata": {
  "language_info": {
   "codemirror_mode": {
    "name": "ipython",
    "version": 3
   },
   "file_extension": ".py",
   "mimetype": "text/x-python",
   "name": "python",
   "nbconvert_exporter": "python",
   "pygments_lexer": "ipython3",
   "version": "3.7.4"
  },
  "orig_nbformat": 2,
  "kernelspec": {
   "name": "python3",
   "display_name": "Python 3.7.4 32-bit"
  },
  "metadata": {
   "interpreter": {
    "hash": "fbe238fbd6722883a25f0e99a6b32a532e1e5c4d6bc62cce666becd368f75eaf"
   }
  },
  "interpreter": {
   "hash": "0b15b737317ee57d023fd1135e68b8999dc64b0fb76512e8c43c46da68401b6e"
  }
 },
 "nbformat": 4,
 "nbformat_minor": 2,
 "cells": [
  {
   "cell_type": "code",
   "execution_count": 2,
   "metadata": {},
   "outputs": [],
   "source": [
    "# Python Basic (Part -I) - Exercises, Practice, Solution\n",
    "# https://www.w3resource.com/python-exercises/python-basic-exercises.php \n"
   ]
  },
  {
   "cell_type": "code",
   "execution_count": 4,
   "metadata": {},
   "outputs": [],
   "source": [
    "def highest_even(li):\n",
    "   return max([item for item in li if item % 2 == 0])\n",
    "   "
   ]
  },
  {
   "cell_type": "code",
   "execution_count": 12,
   "metadata": {},
   "outputs": [
    {
     "output_type": "execute_result",
     "data": {
      "text/plain": [
       "10"
      ]
     },
     "metadata": {},
     "execution_count": 12
    }
   ],
   "source": [
    "highest_even([10,4,5,7,6])"
   ]
  },
  {
   "cell_type": "code",
   "execution_count": 6,
   "metadata": {},
   "outputs": [
    {
     "output_type": "stream",
     "name": "stdout",
     "text": [
      "sys.version_info(major=3, minor=7, micro=4, releaselevel='final', serial=0)\n"
     ]
    }
   ],
   "source": [
    "import sys\n",
    "\n",
    "print(sys.version_info)\n"
   ]
  },
  {
   "cell_type": "code",
<<<<<<< HEAD
   "execution_count": 4,
=======
   "execution_count": 18,
>>>>>>> 352d9acb4c19ff1908f6754164d9c236dfa43d57
   "metadata": {},
   "outputs": [
    {
     "output_type": "stream",
     "name": "stdout",
     "text": [
<<<<<<< HEAD
      "last name"
=======
      "tsal eman\n['last', 'name']\n"
>>>>>>> 352d9acb4c19ff1908f6754164d9c236dfa43d57
     ]
    }
   ],
   "source": [
    "# Write a Python program which accepts the user's first and last name and print them in reverse order with a space between them.\n",
    "\n",
    "def reverseName():\n",
    "    # fname = input(\"give me your first name\")\n",
    "    # lname = input(\"give me your last name\")\n",
    "\n",
    "    fname = (\"name\")\n",
    "    lname = (\"last\")\n",
    "\n",
    "    fullName = lname + ' ' + fname\n",
    "\n",
<<<<<<< HEAD
    "    \n",
    "    print(fullName, end='')\n",
=======
    "    fullName1 = [fname, lname]\n",
    "\n",
    "    print(fullName[::-1])\n",
    "    print(str(fullName1[::-1]))\n",
>>>>>>> 352d9acb4c19ff1908f6754164d9c236dfa43d57
    "\n",
    "reverseName()\n"
   ]
  },
  {
   "cell_type": "code",
<<<<<<< HEAD
   "execution_count": 1,
=======
   "execution_count": 13,
>>>>>>> 352d9acb4c19ff1908f6754164d9c236dfa43d57
   "metadata": {},
   "outputs": [
    {
     "output_type": "stream",
     "name": "stdout",
     "text": [
      "Mareeian\n"
     ]
    }
   ],
   "source": [
    "name = \"Mareeian\"\n",
    "print(name)"
   ]
  },
  {
   "cell_type": "code",
<<<<<<< HEAD
   "execution_count": 5,
   "metadata": {},
   "outputs": [
    {
     "output_type": "error",
     "ename": "ModuleNotFoundError",
     "evalue": "No module named 'pi'",
     "traceback": [
      "\u001b[1;31m---------------------------------------------------------------------------\u001b[0m",
      "\u001b[1;31mModuleNotFoundError\u001b[0m                       Traceback (most recent call last)",
      "\u001b[1;32m<ipython-input-5-f81769c113f0>\u001b[0m in \u001b[0;36m<module>\u001b[1;34m\u001b[0m\n\u001b[1;32m----> 1\u001b[1;33m \u001b[1;32mimport\u001b[0m \u001b[0mpi\u001b[0m \u001b[1;32mas\u001b[0m \u001b[0mpi\u001b[0m\u001b[1;33m\u001b[0m\u001b[1;33m\u001b[0m\u001b[0m\n\u001b[0m\u001b[0;32m      2\u001b[0m \u001b[1;33m\u001b[0m\u001b[0m\n\u001b[0;32m      3\u001b[0m \u001b[0mprint\u001b[0m\u001b[1;33m(\u001b[0m\u001b[0mpi\u001b[0m\u001b[1;33m)\u001b[0m\u001b[1;33m\u001b[0m\u001b[1;33m\u001b[0m\u001b[0m\n",
      "\u001b[1;31mModuleNotFoundError\u001b[0m: No module named 'pi'"
     ]
    }
   ],
   "source": [
    "import pi as pi\n",
    "\n",
    "print(pi)"
   ]
  },
  {
   "cell_type": "code",
   "execution_count": 6,
   "metadata": {},
   "outputs": [
    {
     "output_type": "execute_result",
     "data": {
      "text/plain": [
       "3.8013271108436504"
      ]
     },
     "metadata": {},
     "execution_count": 6
    }
   ],
   "source": [
    "from math import pi\n",
    "r = 1.1\n",
    "area = pi * r**2\n",
    "area"
   ]
  },
  {
   "cell_type": "code",
   "execution_count": 13,
   "metadata": {},
   "outputs": [
    {
     "output_type": "stream",
     "name": "stdout",
     "text": [
      "[1, 2, 3, 4]\n(1, 2, 3, 4)\n{1, 2, 3, 4}\n"
     ]
    }
   ],
   "source": [
    "l1 = 1,2,3,4\n",
    "\n",
    "l = list(l1)\n",
    "t = tuple(l1)\n",
    "s = set(l1)\n",
    "\n",
    "print(l)\n",
    "print(t)\n",
    "print(s)"
   ]
  },
  {
   "cell_type": "code",
   "execution_count": 20,
   "metadata": {},
   "outputs": [
    {
     "output_type": "stream",
     "name": "stdout",
     "text": [
      "['1', '2', '2', '3', '4']\n<class 'str'>\n('1', '2', '2', '3', '4')\n{'4', '2', '3', '1'}\n"
     ]
    }
   ],
   "source": [
    "values = input('put ')\n",
    "\n",
    "l = list(values)\n",
    "t = tuple(values)\n",
    "s = set(values)\n",
    "\n",
    "print(l)\n",
    "print(type(l[0]))\n",
    "print(t)\n",
    "print(s)"
   ]
  },
  {
   "cell_type": "code",
   "execution_count": 36,
   "metadata": {},
   "outputs": [
    {
     "output_type": "stream",
     "name": "stdout",
     "text": [
      "2\n3\n4\ne\nr\n6\n[2, 3, 4, 6]\n(2, 3, 4, 6)\n"
     ]
    }
   ],
   "source": [
    "# same as above but convert it to string\n",
    "\n",
    "values = input('put ')\n",
    "l = []\n",
    "for c in values:\n",
    "    print(c)\n",
    "    if c.isnumeric():\n",
    "        l.append(int(c))\n",
    "    \n",
    "print(l)\n",
    "t = tuple(l)\n",
    "print(t)\n"
=======
   "execution_count": 30,
   "metadata": {},
   "outputs": [
    {
     "output_type": "execute_result",
     "data": {
      "text/plain": [
       "(['2', '3', '4', '5', '6'], ('2', '3', '4', '5', '6'))"
      ]
     },
     "metadata": {},
     "execution_count": 30
    }
   ],
   "source": [
    "# No 6\n",
    "\n",
    "nums = input(\"give me some numbers\") # in this case it has to be like this 2345\n",
    "nums1 = 3, 5, 7, 23  # in this case commas are removed\n",
    "\n",
    "numList = list(nums)\n",
    "numTuple = tuple(nums)\n",
    "\n",
    "numList, numTuple"
>>>>>>> 352d9acb4c19ff1908f6754164d9c236dfa43d57
   ]
  },
  {
   "cell_type": "code",
<<<<<<< HEAD
   "execution_count": 40,
   "metadata": {},
   "outputs": [
    {
     "output_type": "stream",
     "name": "stdout",
     "text": [
      "[5, 7, 5, 7, 8, 3, 4, 4, 5, 2, 3]\n(5, 7, 5, 7, 8, 3, 4, 4, 5, 2, 3)\n{2, 3, 4, 5, 7, 8}\n"
     ]
    }
   ],
   "source": [
    "# same as above but convert it to string using list comprehension\n",
    "\n",
    "values = input('put ')\n",
    "l = [int(c) for c in values if c.isnumeric()]\n",
    "\n",
    "    \n",
    "print(l)\n",
    "t = tuple(l)\n",
    "print(t)\n",
    "s = set(l)\n",
    "print(s)\n",
    "\n"
=======
   "execution_count": 34,
   "metadata": {},
   "outputs": [
    {
     "output_type": "execute_result",
     "data": {
      "text/plain": [
       "'java'"
      ]
     },
     "metadata": {},
     "execution_count": 34
    }
   ],
   "source": [
    "filename = 'abc.java'\n",
    "\n",
    "extension = filename.split('.')\n",
    "extension[-1]\n"
>>>>>>> 352d9acb4c19ff1908f6754164d9c236dfa43d57
   ]
  },
  {
   "cell_type": "code",
   "execution_count": null,
   "metadata": {},
   "outputs": [],
   "source": []
  }
 ]
}