{
 "cells": [
  {
   "cell_type": "code",
   "execution_count": 5,
   "source": [
    "# Python Basic (Part -I) - Exercises, Practice, Solution\r\n",
    "# https://www.w3resource.com/python-exercises/python-basic-exercises.php \r\n"
   ],
   "outputs": [],
   "metadata": {}
  },
  {
   "cell_type": "code",
   "execution_count": 6,
   "source": [
    "def highest_even(li):\r\n",
    "   return max([item for item in li if item % 2 == 0])\r\n",
    "   "
   ],
   "outputs": [],
   "metadata": {}
  },
  {
   "cell_type": "code",
   "execution_count": 7,
   "source": [
    "highest_even([10,4,5,7,6])"
   ],
   "outputs": [
    {
     "output_type": "execute_result",
     "data": {
      "text/plain": [
       "10"
      ]
     },
     "metadata": {},
     "execution_count": 7
    }
   ],
   "metadata": {}
  },
  {
   "cell_type": "code",
   "execution_count": null,
   "source": [],
   "outputs": [],
   "metadata": {}
  },
  {
   "cell_type": "code",
   "execution_count": 8,
   "source": [
    "import sys\r\n",
    "\r\n",
    "print(sys.version_info)\r\n"
   ],
   "outputs": [
    {
     "output_type": "stream",
     "name": "stdout",
     "text": [
      "sys.version_info(major=3, minor=7, micro=6, releaselevel='final', serial=0)\n"
     ]
    }
   ],
   "metadata": {}
  },
  {
   "cell_type": "code",
   "execution_count": 9,
   "source": [
    "# Write a Python program which accepts the user's first and last name and print them in reverse order with a space between them.\r\n",
    "\r\n",
    "def reverseName():\r\n",
    "    # fname = input(\"give me your first name\")\r\n",
    "    # lname = input(\"give me your last name\")\r\n",
    "\r\n",
    "    fname = (\"name\")\r\n",
    "    lname = (\"last\")\r\n",
    "\r\n",
    "    fullName = lname + ' ' + fname\r\n",
    "\r\n",
    "    \r\n",
    "    print(fullName, end='')\r\n",
    "\r\n",
    "reverseName()\r\n"
   ],
   "outputs": [
    {
     "output_type": "stream",
     "name": "stdout",
     "text": [
      "last name"
     ]
    }
   ],
   "metadata": {}
  },
  {
   "cell_type": "code",
   "execution_count": 7,
   "source": [
    "name = \"Marian\"\r\n",
    "print(name)"
   ],
   "outputs": [
    {
     "output_type": "stream",
     "name": "stdout",
     "text": [
      "Marian\n"
     ]
    }
   ],
   "metadata": {}
  },
  {
   "cell_type": "code",
   "execution_count": 11,
   "source": [
    "from math import pi as pi\r\n",
    "\r\n",
    "print(pi)"
   ],
   "outputs": [
    {
     "output_type": "stream",
     "name": "stdout",
     "text": [
      "3.141592653589793\n"
     ]
    }
   ],
   "metadata": {}
  },
  {
   "cell_type": "code",
   "execution_count": null,
   "source": [
    "from math import pi\r\n",
    "r = 1.1\r\n",
    "area = pi * r**2\r\n",
    "area"
   ],
   "outputs": [
    {
     "output_type": "execute_result",
     "data": {
      "text/plain": [
       "3.8013271108436504"
      ]
     },
     "metadata": {},
     "execution_count": 1
    }
   ],
   "metadata": {}
  },
  {
   "cell_type": "code",
   "execution_count": 2,
   "source": [
    "l1 = 1,2,3,4\r\n",
    "\r\n",
    "l = list(l1)\r\n",
    "t = tuple(l1)\r\n",
    "s = set(l1)\r\n",
    "\r\n",
    "print(l)\r\n",
    "print(t)\r\n",
    "print(s)"
   ],
   "outputs": [
    {
     "output_type": "stream",
     "name": "stdout",
     "text": [
      "[1, 2, 3, 4]\n",
      "(1, 2, 3, 4)\n",
      "{1, 2, 3, 4}\n"
     ]
    }
   ],
   "metadata": {}
  },
  {
   "cell_type": "code",
   "execution_count": 7,
   "source": [
    "values = input('put ')\r\n",
    "\r\n",
    "l = list(values)\r\n",
    "t = tuple(values)\r\n",
    "s = set(values)\r\n",
    "\r\n",
    "print(l)\r\n",
    "print(type(l))\r\n",
    "print(t)\r\n",
    "print(s)"
   ],
   "outputs": [
    {
     "output_type": "stream",
     "name": "stdout",
     "text": [
      "['w', 'e']\n",
      "<class 'list'>\n",
      "('w', 'e')\n",
      "{'e', 'w'}\n"
     ]
    }
   ],
   "metadata": {}
  },
  {
   "cell_type": "code",
   "execution_count": 8,
   "source": [
    "# same as above but convert it to int\r\n",
    "\r\n",
    "values = input('put ')\r\n",
    "l = []\r\n",
    "for c in values:\r\n",
    "    print(c)\r\n",
    "    if c.isnumeric():\r\n",
    "        l.append(int(c))\r\n",
    "    \r\n",
    "print(l)\r\n",
    "t = tuple(l)\r\n",
    "print(t)\r\n"
   ],
   "outputs": [
    {
     "output_type": "stream",
     "name": "stdout",
     "text": [
      "s\n",
      "f\n",
      "e\n",
      "f\n",
      "e\n",
      "f\n",
      "[]\n",
      "()\n"
     ]
    }
   ],
   "metadata": {}
  },
  {
   "cell_type": "code",
   "execution_count": 10,
   "source": [
    "# same as above but convert it to int using list comprehension\r\n",
    "\r\n",
    "values = input('put ')\r\n",
    "l = [int(c) for c in values if c.isnumeric()]\r\n",
    "\r\n",
    "    \r\n",
    "print(l)\r\n",
    "t = tuple(l)\r\n",
    "print(t)\r\n",
    "s = set(l)\r\n",
    "print(s)\r\n",
    "\r\n"
   ],
   "outputs": [
    {
     "output_type": "stream",
     "name": "stdout",
     "text": [
      "[3, 4, 3, 5, 3, 4, 5]\n",
      "(3, 4, 3, 5, 3, 4, 5)\n",
      "{3, 4, 5}\n"
     ]
    }
   ],
   "metadata": {}
  },
  {
   "cell_type": "code",
   "execution_count": 12,
   "source": [
    "# Exercise 10: Input an integer (n) and computes the value of n+nn+nnn"
   ],
   "outputs": [],
   "metadata": {}
  },
  {
   "cell_type": "code",
   "execution_count": 40,
   "source": [
    "n = input('enter number')\r\n",
    "output = 0\r\n",
    "\r\n",
    "out = int(n) + int(n+n) + int(n+n+n) + int(n+n+n+n) + int(n+n+n+n+n) # this is just double check for debugging\r\n",
    "print(out)\r\n",
    "\r\n",
    "for i in range(1,(int(n)+1)):\t\r\n",
    "\toutput += int(n*i) \r\n",
    "print(output)\r\n",
    "\r\n",
    "\r\n"
   ],
   "outputs": [
    {
     "output_type": "stream",
     "name": "stdout",
     "text": [
      "61725\n",
      "61725\n"
     ]
    }
   ],
   "metadata": {}
  },
  {
   "cell_type": "code",
   "execution_count": null,
   "source": [
    "# Exercise 11. Write a Python program to print the documents (syntax, description etc.) of Python built-in function(s).\r\n"
   ],
   "outputs": [],
   "metadata": {}
  },
  {
   "cell_type": "code",
   "execution_count": null,
   "source": [],
   "outputs": [],
   "metadata": {}
  },
  {
   "cell_type": "code",
   "execution_count": 54,
   "source": [
    "def describe(n):\r\n",
    "\t'describe given argument'\r\n",
    "\tprint(n.__doc__)\r\n",
    "\r\n",
    "describe(tuple)"
   ],
   "outputs": [
    {
     "output_type": "stream",
     "name": "stdout",
     "text": [
      "Built-in immutable sequence.\n",
      "\n",
      "If no argument is given, the constructor returns an empty tuple.\n",
      "If iterable is specified the tuple is initialized from iterable's items.\n",
      "\n",
      "If the argument is a tuple, the return value is the same object.\n"
     ]
    }
   ],
   "metadata": {}
  },
  {
   "cell_type": "code",
   "execution_count": 49,
   "source": [],
   "outputs": [
    {
     "output_type": "stream",
     "name": "stdout",
     "text": [
      "test def\n"
     ]
    }
   ],
   "metadata": {}
  }
 ],
 "metadata": {
  "interpreter": {
   "hash": "ef6158b8f70acb55f14e9e8900390c101c5e76b0b37a2fa3a79ca4e7b97b63bf"
  },
  "kernelspec": {
   "name": "python3",
   "display_name": "Python 3.7.6 64-bit ('base': conda)"
  },
  "language_info": {
   "codemirror_mode": {
    "name": "ipython",
    "version": 3
   },
   "file_extension": ".py",
   "mimetype": "text/x-python",
   "name": "python",
   "nbconvert_exporter": "python",
   "pygments_lexer": "ipython3",
   "version": "3.7.6"
  },
  "metadata": {
   "interpreter": {
    "hash": "fbe238fbd6722883a25f0e99a6b32a532e1e5c4d6bc62cce666becd368f75eaf"
   }
  },
  "orig_nbformat": 2
 },
 "nbformat": 4,
 "nbformat_minor": 2
}